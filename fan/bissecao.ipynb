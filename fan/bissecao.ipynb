{
 "cells": [
  {
   "cell_type": "code",
   "execution_count": null,
   "id": "fce5830d",
   "metadata": {},
   "outputs": [],
   "source": [
    "import math"
   ]
  },
  {
   "cell_type": "code",
   "execution_count": null,
   "id": "d965780d",
   "metadata": {},
   "outputs": [],
   "source": [
    "def newton():\n",
    "    teste"
   ]
  },
  {
   "cell_type": "code",
   "execution_count": null,
   "id": "60433a9d",
   "metadata": {},
   "outputs": [],
   "source": [
    "def secantes():\n",
    "    "
   ]
  },
  {
   "cell_type": "code",
   "execution_count": null,
   "id": "a8ab6890",
   "metadata": {},
   "outputs": [],
   "source": [
    "def bissecao(f, a, b, epsilon, k_max):\n",
    "    f_a = f(a)\n",
    "    f_b = f(b)\n",
    "    \n",
    "    if f_a == 0:\n",
    "        print(\"A raiz foi encontrada em a0 (início do intervalo).\")\n",
    "        return a\n",
    "    if f_b == 0:\n",
    "        print(\"A raiz foi encontrada em b0 (fim do intervalo).\")\n",
    "        return b\n",
    "    if f_a * f_b > 0:\n",
    "        return \"ERRO: A função não muda de sinal no intervalo [a0, b0]. O mesmo sinal em f(a0) e f(b0).\"\n",
    "\n",
    "    # [P2] Definir x0 = a0 (usaremos 'x_anterior' para representar x_{k-1})\n",
    "    x_anterior = a\n",
    "    \n",
    "    print(\"k\\t ak\\t\\t bk\\t\\t xk\\t\\t f(xk)\\t\\t Erro Relativo\")\n",
    "\n",
    "    # [P3] Loop principal para as iterações\n",
    "    for k in range(1, k_max + 1):\n",
    "        # Calcular xk e f(xk)\n",
    "        x_k = (a + b) / 2\n",
    "        f_xk = f(x_k)\n",
    "        \n",
    "        # Calcular erro relativo\n",
    "        erro_relativo = abs(x_k - x_anterior) / (1 + abs(x_k)) if x_k != 0 else abs(x_k - x_anterior)\n",
    "\n",
    "        print(f\"{k}\\t {a:<15.8f} {b:<15.8f} {x_k:<15.8f} {f_xk:<15.8f} {erro_relativo:<15.8f}\")"
   ]
  },
  {
   "cell_type": "code",
   "execution_count": null,
   "id": "36d1f34b",
   "metadata": {},
   "outputs": [],
   "source": [
    "def funcao_principal(x):\n",
    "    return 3 * (x ** 5) + 8 * (x ** 4) - 6 * (x ** 3) - 16 * (x ** 2) - 9 * x - 24"
   ]
  },
  {
   "cell_type": "markdown",
   "id": "5435a0c6",
   "metadata": {},
   "source": [
    "main abaixo"
   ]
  },
  {
   "cell_type": "code",
   "execution_count": null,
   "id": "7471ee72",
   "metadata": {},
   "outputs": [],
   "source": []
  }
 ],
 "metadata": {
  "kernelspec": {
   "display_name": "Python 3",
   "language": "python",
   "name": "python3"
  },
  "language_info": {
   "codemirror_mode": {
    "name": "ipython",
    "version": 3
   },
   "file_extension": ".py",
   "mimetype": "text/x-python",
   "name": "python",
   "nbconvert_exporter": "python",
   "pygments_lexer": "ipython3",
   "version": "3.11.5"
  }
 },
 "nbformat": 4,
 "nbformat_minor": 5
}
